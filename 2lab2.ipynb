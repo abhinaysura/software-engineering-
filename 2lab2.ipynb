{
  "nbformat": 4,
  "nbformat_minor": 0,
  "metadata": {
    "colab": {
      "provenance": []
    },
    "kernelspec": {
      "name": "python3",
      "display_name": "Python 3"
    },
    "language_info": {
      "name": "python"
    }
  },
  "cells": [
    {
      "cell_type": "code",
      "execution_count": 7,
      "metadata": {
        "id": "Cah9vrECdBIC"
      },
      "outputs": [],
      "source": [
        "file_path = '/content/TempHumiWind.xlsx'"
      ]
    },
    {
      "cell_type": "code",
      "source": [
        "import pandas as pd\n",
        "try:\n",
        "    df = pd.read_excel(file_path)\n",
        "    print(\"Dataset loaded successfully!\")\n",
        "    print(\"Columns in the updated dataset:\", df.columns)\n",
        "except Exception as e:\n",
        "    print(\"Error loading the file:\", e)"
      ],
      "metadata": {
        "colab": {
          "base_uri": "https://localhost:8080/"
        },
        "id": "XApMPquqdYUZ",
        "outputId": "daa0830a-b812-45b2-f6b4-7085851b63ed"
      },
      "execution_count": 8,
      "outputs": [
        {
          "output_type": "stream",
          "name": "stdout",
          "text": [
            "Dataset loaded successfully!\n",
            "Columns in the updated dataset: Index(['CITY', 'TEMPERATURE ', 'HUMIDITY', 'WIND SPEED'], dtype='object')\n"
          ]
        }
      ]
    },
    {
      "cell_type": "code",
      "source": [
        "try:\n",
        "    df = pd.read_excel(file_path)\n",
        "    print(\"Dataset loaded successfully!\")\n",
        "    print(\"Columns:\", df.columns)\n",
        "except Exception as e:\n",
        "    print(\"Error loading the file:\", e)\n",
        "\n",
        "df.columns = df.columns.str.strip()\n",
        "\n",
        "\n",
        "user_input = input(\"\\nEnter city names separated by commas (e.g., Mumbai, Delhi): \")\n",
        "user_cities = [city.strip() for city in user_input.split(\",\")]\n",
        "\n",
        "\n",
        "valid_cities = df[\"CITY\"].unique()\n",
        "matched_cities = [city for city in user_cities if city in valid_cities]\n",
        "\n",
        "if not matched_cities:\n",
        "    print(\"No valid cities found in the dataset. Exiting.\")\n",
        "else:\n",
        "    print(f\"\\nProcessing data for the following matched cities: {matched_cities}\")\n",
        "\n",
        "def calculate_weather(temp, humidity, wind_speed):\n",
        "    \"\"\"\n",
        "    Calculate weather using the given formula:\n",
        "    W = 0.5 * t^2 - 0.2 * Humidity + 0.1 * Wind Speed - 15\n",
        "    \"\"\"\n",
        "    W = (0.5 * temp**2) - (0.2 * humidity) + (0.1 * wind_speed) - 15\n",
        "    return W\n",
        "\n",
        "\n",
        "\n",
        "def categorize_weather(W):\n",
        "    \"\"\"\n",
        "    Categorize the weather condition based on the value of W\n",
        "    \"\"\"\n",
        "    if W > 300:\n",
        "        return \"Cloudy\"\n",
        "    elif 200 < W <= 300:\n",
        "        return \"Sunny\"\n",
        "    else:\n",
        "        return \"Rainy\"\n",
        "\n",
        "\n",
        "\n",
        "print(\"\\nWeather Prediction Results:\")\n",
        "for city in matched_cities:\n",
        "\n",
        "    city_data = df[df[\"CITY\"] == city].iloc[0]\n",
        "    temp = city_data[\"TEMPERATURE\"]\n",
        "    humidity = city_data[\"HUMIDITY\"]\n",
        "    wind_speed = city_data[\"WIND SPEED\"]\n",
        "\n",
        "\n",
        "    modeled_weather = calculate_weather(temp, humidity, wind_speed)\n",
        "\n",
        "\n",
        "    weather_condition = categorize_weather(modeled_weather)\n",
        "\n",
        "    print(\n",
        "        f\"City: {city}\\n\"\n",
        "        f\"Temperature: {temp} °C\\n\"\n",
        "        f\"Humidity: {humidity} %\\n\"\n",
        "        f\"Wind Speed: {wind_speed} m/s\\n\"\n",
        "        f\"Calculated Weather Value (W): {modeled_weather:.2f}\\n\"\n",
        "        f\"Weather Condition: {weather_condition}\\n\"\n",
        "    )\n"
      ],
      "metadata": {
        "colab": {
          "base_uri": "https://localhost:8080/"
        },
        "id": "5PKQygtTdfTe",
        "outputId": "24e717ad-ae50-435b-90d7-00ff5184da68"
      },
      "execution_count": 9,
      "outputs": [
        {
          "output_type": "stream",
          "name": "stdout",
          "text": [
            "Dataset loaded successfully!\n",
            "Columns: Index(['CITY', 'TEMPERATURE ', 'HUMIDITY', 'WIND SPEED'], dtype='object')\n",
            "\n",
            "Enter city names separated by commas (e.g., Mumbai, Delhi): Delhi,Mumbai,Hyderabad\n",
            "\n",
            "Processing data for the following matched cities: ['Delhi', 'Mumbai', 'Hyderabad']\n",
            "\n",
            "Weather Prediction Results:\n",
            "City: Delhi\n",
            "Temperature: 20 °C\n",
            "Humidity: 50 %\n",
            "Wind Speed: 4.5 m/s\n",
            "Calculated Weather Value (W): 175.45\n",
            "Weather Condition: Rainy\n",
            "\n",
            "City: Mumbai\n",
            "Temperature: 32 °C\n",
            "Humidity: 75 %\n",
            "Wind Speed: 5.0 m/s\n",
            "Calculated Weather Value (W): 482.50\n",
            "Weather Condition: Cloudy\n",
            "\n",
            "City: Hyderabad\n",
            "Temperature: 26 °C\n",
            "Humidity: 65 %\n",
            "Wind Speed: 4.0 m/s\n",
            "Calculated Weather Value (W): 310.40\n",
            "Weather Condition: Cloudy\n",
            "\n"
          ]
        }
      ]
    }
  ]
}