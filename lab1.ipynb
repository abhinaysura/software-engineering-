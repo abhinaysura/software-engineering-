{
  "nbformat": 4,
  "nbformat_minor": 0,
  "metadata": {
    "colab": {
      "provenance": []
    },
    "kernelspec": {
      "name": "python3",
      "display_name": "Python 3"
    },
    "language_info": {
      "name": "python"
    }
  },
  "cells": [
    {
      "cell_type": "code",
      "execution_count": null,
      "metadata": {
        "colab": {
          "base_uri": "https://localhost:8080/"
        },
        "id": "Ro9bIDauaoK0",
        "outputId": "636e8f08-5e05-42da-efa1-0cf825a90213"
      },
      "outputs": [
        {
          "output_type": "stream",
          "name": "stdout",
          "text": [
            " enter a num5\n",
            "120\n"
          ]
        }
      ],
      "source": [
        "n=int(input(\" enter a num\"))\n",
        "fact=1\n",
        "for i in range(1, n+1):\n",
        "  fact=fact*i\n",
        "print(fact)"
      ]
    }
  ]
}